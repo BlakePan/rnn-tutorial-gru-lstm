{
 "cells": [
  {
   "cell_type": "code",
   "execution_count": 1,
   "metadata": {
    "collapsed": true
   },
   "outputs": [],
   "source": [
    "#! /usr/bin/env python\n",
    "\n",
    "import sys\n",
    "import os\n",
    "import time\n",
    "import numpy as np\n",
    "from utils import *\n",
    "from datetime import datetime\n",
    "from gru_theano import GRUTheano"
   ]
  },
  {
   "cell_type": "code",
   "execution_count": 2,
   "metadata": {
    "collapsed": true
   },
   "outputs": [],
   "source": [
    "#logging setting\n",
    "def log_enable():\n",
    "  import logging\n",
    "  if not os.path.exists('./log'):\n",
    "    os.makedirs('./log')\n",
    "\n",
    "  file_name =  os.path.basename(sys.argv[0])\n",
    "  timestr = time.strftime(\"%Y%m%d_%H%M%S\")\n",
    "\n",
    "  log_file = \"./log/\"+file_name+\"_\"+timestr+\".log\"\n",
    "  log_level = logging.DEBUG\n",
    "  logger = logging.getLogger(file_name)\n",
    "  handler = logging.FileHandler(log_file, mode='w')\n",
    "  formatter = logging.Formatter(\"[%(levelname)s][%(funcName)s]\\\n",
    "  [%(asctime)s]%(message)s\")\n",
    "  handler.setFormatter(formatter)\n",
    "  logger.addHandler(handler)\n",
    "  logger.setLevel(log_level)\n",
    "\n",
    "  return logger"
   ]
  },
  {
   "cell_type": "code",
   "execution_count": 3,
   "metadata": {
    "collapsed": true
   },
   "outputs": [],
   "source": [
    "# parameters\n",
    "LEARNING_RATE = float(os.environ.get(\"LEARNING_RATE\", \"0.001\"))\n",
    "VOCABULARY_SIZE = int(os.environ.get(\"VOCABULARY_SIZE\", \"2000\"))\n",
    "EMBEDDING_DIM = int(os.environ.get(\"EMBEDDING_DIM\", \"48\"))\n",
    "HIDDEN_DIM = int(os.environ.get(\"HIDDEN_DIM\", \"128\"))\n",
    "NEPOCH = int(os.environ.get(\"NEPOCH\", \"20\"))\n",
    "MODEL_OUTPUT_FILE = os.environ.get(\"MODEL_OUTPUT_FILE\")\n",
    "#INPUT_DATA_FILE = os.environ.get(\"INPUT_DATA_FILE\", \"./data/reddit-comments-2015.csv\")\n",
    "INPUT_DATA_FILE = os.environ.get(\"INPUT_DATA_FILE\", \"./data/result.csv\")\n",
    "PRINT_EVERY = int(os.environ.get(\"PRINT_EVERY\", \"250\"))\n",
    "LOG_ENABLE = False;\n",
    "\n",
    "if not MODEL_OUTPUT_FILE:\n",
    "  ts = datetime.now().strftime(\"%Y-%m-%d-%H-%M\")\n",
    "  MODEL_OUTPUT_FILE = \"./model_para/GRU-%s-%s-%s-%s.dat\" % (ts, VOCABULARY_SIZE, EMBEDDING_DIM, HIDDEN_DIM)\n",
    "\n",
    "if LOG_ENABLE:\n",
    "  _logger = log_enable()"
   ]
  },
  {
   "cell_type": "code",
   "execution_count": null,
   "metadata": {
    "collapsed": false
   },
   "outputs": [
    {
     "name": "stdout",
     "output_type": "stream",
     "text": [
      "Reading CSV file...\n"
     ]
    }
   ],
   "source": [
    "# Load data\n",
    "x_train, y_train, word_to_index, index_to_word = load_data(INPUT_DATA_FILE, VOCABULARY_SIZE)"
   ]
  },
  {
   "cell_type": "code",
   "execution_count": null,
   "metadata": {
    "collapsed": true
   },
   "outputs": [],
   "source": []
  }
 ],
 "metadata": {
  "kernelspec": {
   "display_name": "Python 2",
   "language": "python",
   "name": "python2"
  },
  "language_info": {
   "codemirror_mode": {
    "name": "ipython",
    "version": 2
   },
   "file_extension": ".py",
   "mimetype": "text/x-python",
   "name": "python",
   "nbconvert_exporter": "python",
   "pygments_lexer": "ipython2",
   "version": "2.7.6"
  }
 },
 "nbformat": 4,
 "nbformat_minor": 0
}
